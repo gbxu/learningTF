{
 "cells": [
  {
   "cell_type": "code",
   "execution_count": 1,
   "metadata": {},
   "outputs": [],
   "source": [
    "# hello world\n",
    "# see: https://github.com/tensorflow/docs/blob/master/site/en/r1/guide/low_level_intro.md\n",
    "from __future__ import absolute_import\n",
    "from __future__ import division\n",
    "from __future__ import print_function\n",
    "\n",
    "import numpy as np\n",
    "import tensorflow as tf"
   ]
  },
  {
   "cell_type": "code",
   "execution_count": 2,
   "metadata": {},
   "outputs": [
    {
     "name": "stdout",
     "output_type": "stream",
     "text": [
      "Tensor(\"add:0\", shape=(), dtype=float32)\n",
      "[<tf.Operation 'Const' type=Const>, <tf.Operation 'Const_1' type=Const>, <tf.Operation 'add' type=AddV2>]\n"
     ]
    }
   ],
   "source": [
    "# graph, session\n",
    "# see: https://github.com/tensorflow/docs/blob/master/site/en/r1/guide/graphs.md\n",
    "# building the graph\n",
    "# tf.Tensor\n",
    "graph1 = tf.Graph()\n",
    "with graph1.as_default():\n",
    "    a = tf.constant(3.0, dtype=tf.float32)\n",
    "    b = tf.constant(4.0, dtype=tf.float32)\n",
    "    # tf.Operation\n",
    "    c = a + b\n",
    "print(c)\n",
    "print(graph1.get_operations())"
   ]
  },
  {
   "cell_type": "code",
   "execution_count": 3,
   "metadata": {},
   "outputs": [],
   "source": [
    "# tensorboard\n",
    "%reload_ext tensorboard\n",
    "!rm -rf ./logs/ \n",
    "from datetime import datetime\n",
    "stamp = datetime.now().strftime(\"%Y%m%d-%H%M%S\")\n",
    "logdir = 'logs/helloworld/%s' % stamp\n",
    "writer = tf.summary.FileWriter(logdir+\"/graph\")\n",
    "writer.add_graph(graph1)\n",
    "writer.flush()"
   ]
  },
  {
   "cell_type": "code",
   "execution_count": 4,
   "metadata": {},
   "outputs": [
    {
     "data": {
      "text/plain": [
       "Reusing TensorBoard on port 6006 (pid 436), started 2:25:30 ago. (Use '!kill 436' to kill it.)"
      ]
     },
     "metadata": {},
     "output_type": "display_data"
    },
    {
     "data": {
      "text/html": [
       "\n",
       "      <iframe id=\"tensorboard-frame-d50c31383a4b030a\" width=\"100%\" height=\"800\" frameborder=\"0\">\n",
       "      </iframe>\n",
       "      <script>\n",
       "        (function() {\n",
       "          const frame = document.getElementById(\"tensorboard-frame-d50c31383a4b030a\");\n",
       "          const url = new URL(\"/\", window.location);\n",
       "          url.port = 6006;\n",
       "          frame.src = url;\n",
       "        })();\n",
       "      </script>\n",
       "  "
      ],
      "text/plain": [
       "<IPython.core.display.HTML object>"
      ]
     },
     "metadata": {},
     "output_type": "display_data"
    }
   ],
   "source": [
    "%tensorboard --logdir ."
   ]
  },
  {
   "cell_type": "code",
   "execution_count": 5,
   "metadata": {},
   "outputs": [
    {
     "name": "stdout",
     "output_type": "stream",
     "text": [
      "7.0\n"
     ]
    }
   ],
   "source": [
    "sess = tf.Session(graph=graph1)\n",
    "print(sess.run(c))"
   ]
  },
  {
   "cell_type": "code",
   "execution_count": 6,
   "metadata": {},
   "outputs": [
    {
     "name": "stdout",
     "output_type": "stream",
     "text": [
      "[0.15421319 0.18305147]\n",
      "[0.37553263 0.7793822 ]\n",
      "(array([1.7742738, 1.5920892], dtype=float32), array([2.7742739, 2.5920892], dtype=float32))\n"
     ]
    }
   ],
   "source": [
    "# run就是每次对图的新一次的执行\n",
    "graph2 = tf.Graph()\n",
    "with graph2.as_default():\n",
    "    vec = tf.random_uniform(shape=(2,))\n",
    "    out1 = vec + 1\n",
    "    out2 = vec + 2\n",
    "with tf.Session(graph=graph2) as sess:\n",
    "    print(sess.run(vec))\n",
    "    print(sess.run(vec))\n",
    "    print(sess.run((out1, out2)))"
   ]
  },
  {
   "cell_type": "code",
   "execution_count": 7,
   "metadata": {},
   "outputs": [
    {
     "name": "stdout",
     "output_type": "stream",
     "text": [
      "7.0\n",
      "[3. 7.]\n"
     ]
    }
   ],
   "source": [
    "graph3 = tf.Graph()\n",
    "with graph3.as_default():\n",
    "    x = tf.placeholder(tf.float32) # must feed the value to it\n",
    "    y = tf.placeholder(tf.float32)\n",
    "    z = x + y\n",
    "with tf.Session(graph=graph3) as sess:\n",
    "    print(sess.run(z, feed_dict={x: 3, y: 4}))\n",
    "    print(sess.run(z, feed_dict={x: [1, 3], y: [2, 4]}))"
   ]
  },
  {
   "cell_type": "code",
   "execution_count": 8,
   "metadata": {},
   "outputs": [
    {
     "data": {
      "text/plain": [
       "<tf.Tensor 'Placeholder:0' shape=<unknown> dtype=float32>"
      ]
     },
     "execution_count": 8,
     "metadata": {},
     "output_type": "execute_result"
    }
   ],
   "source": [
    "# data struction\n",
    "# all tensor could be scalar, vector, or high dimension array\n",
    "# see: https://github.com/tensorflow/docs/blob/master/site/en/r1/guide/tensors.md\n",
    "# see: https://github.com/tensorflow/docs/blob/master/site/en/r1/guide/variables.md\n",
    "tf.constant([3.0, 2], dtype=tf.float32) # constant value\n",
    "tf.Variable(1 ,dtype=tf.float32) # which can be changed in various execution\n",
    "tf.placeholder(tf.float32)"
   ]
  },
  {
   "cell_type": "code",
   "execution_count": 9,
   "metadata": {},
   "outputs": [],
   "source": [
    "# how to import data\n",
    "# see: https://github.com/tensorflow/docs/blob/master/site/en/r1/guide/datasets.md"
   ]
  },
  {
   "cell_type": "code",
   "execution_count": 10,
   "metadata": {},
   "outputs": [
    {
     "name": "stdout",
     "output_type": "stream",
     "text": [
      "<tf.Variable 'dense/kernel:0' shape=(3, 1) dtype=float32_ref> <tf.Variable 'dense/bias:0' shape=(1,) dtype=float32_ref>\n",
      "[[3.7841096]]\n"
     ]
    }
   ],
   "source": [
    "# layer: a combination with tensor & op\n",
    "# see: https://www.tensorflow.org/versions/r1.15/api_docs/python/tf/layers\n",
    "graph4 = tf.Graph()\n",
    "with graph4.as_default():\n",
    "    x = tf.placeholder(tf.float32, shape=[None, 3])\n",
    "    linear_model = tf.layers.Dense(units=1)\n",
    "    y = linear_model(x)\n",
    "with tf.Session(graph=graph4) as sess:\n",
    "    sess.run(tf.global_variables_initializer())\n",
    "    print(linear_model.kernel, linear_model.bias)\n",
    "    print(sess.run(y, feed_dict={x: [[1, 2, 3]]}))"
   ]
  },
  {
   "cell_type": "code",
   "execution_count": 11,
   "metadata": {},
   "outputs": [
    {
     "name": "stdout",
     "output_type": "stream",
     "text": [
      "WARNING:tensorflow:From c:\\users\\v-guanx\\venv\\tf115\\lib\\site-packages\\tensorflow_core\\python\\ops\\losses\\losses_impl.py:121: where (from tensorflow.python.ops.array_ops) is deprecated and will be removed in a future version.\n",
      "Instructions for updating:\n",
      "Use tf.where in 2.0, which has the same broadcast rule as np.where\n",
      "loss before training: 2.0643077\n",
      "loss after training: 2.0643077\n",
      "loss after training: 1.4681363\n",
      "loss after training: 1.0542521\n",
      "loss after training: 0.7668541\n",
      "loss after training: 0.5672235\n",
      "loss after training: 0.428494\n",
      "loss after training: 0.3320239\n",
      "loss after training: 0.26487774\n",
      "loss after training: 0.21808028\n",
      "loss after training: 0.18540339\n",
      "loss after training: 0.16252598\n",
      "loss after training: 0.14644925\n",
      "loss after training: 0.13509257\n",
      "loss after training: 0.12701228\n",
      "loss after training: 0.121206574\n",
      "loss after training: 0.116980374\n",
      "loss after training: 0.11385135\n",
      "loss after training: 0.111484796\n",
      "loss after training: 0.10964844\n",
      "loss after training: 0.10818116\n",
      "loss after training: 0.10697118\n",
      "loss after training: 0.10594082\n",
      "loss after training: 0.10503622\n",
      "loss after training: 0.10422006\n",
      "loss after training: 0.10346639\n",
      "loss after training: 0.10275721\n",
      "loss after training: 0.10207996\n",
      "loss after training: 0.101426005\n",
      "loss after training: 0.10078933\n",
      "loss after training: 0.100165755\n",
      "loss after training: 0.099552296\n",
      "loss after training: 0.09894697\n",
      "loss after training: 0.09834835\n",
      "loss after training: 0.09775549\n",
      "loss after training: 0.097167656\n",
      "loss after training: 0.096584365\n",
      "loss after training: 0.096005276\n",
      "loss after training: 0.09543011\n",
      "loss after training: 0.09485881\n",
      "loss after training: 0.0942911\n",
      "loss after training: 0.09372696\n",
      "loss after training: 0.09316633\n",
      "loss after training: 0.09260912\n",
      "loss after training: 0.09205529\n",
      "loss after training: 0.09150483\n",
      "loss after training: 0.090957664\n",
      "loss after training: 0.090413794\n",
      "loss after training: 0.08987321\n",
      "loss after training: 0.089335844\n",
      "loss after training: 0.088801704\n",
      "loss after training: 0.08827078\n",
      "loss after training: 0.08774299\n",
      "loss after training: 0.087218404\n",
      "loss after training: 0.086696945\n",
      "loss after training: 0.086178586\n",
      "loss after training: 0.08566333\n",
      "loss after training: 0.08515116\n",
      "loss after training: 0.08464204\n",
      "loss after training: 0.08413597\n",
      "loss after training: 0.08363296\n",
      "loss after training: 0.08313292\n",
      "loss after training: 0.0826359\n",
      "loss after training: 0.08214182\n",
      "loss after training: 0.0816507\n",
      "loss after training: 0.08116252\n",
      "loss after training: 0.08067727\n",
      "loss after training: 0.08019492\n",
      "loss after training: 0.07971545\n",
      "loss after training: 0.079238825\n",
      "loss after training: 0.07876508\n",
      "loss after training: 0.07829414\n",
      "loss after training: 0.07782604\n",
      "loss after training: 0.07736071\n",
      "loss after training: 0.0768982\n",
      "loss after training: 0.076438434\n",
      "loss after training: 0.07598141\n",
      "loss after training: 0.07552713\n",
      "loss after training: 0.075075574\n",
      "loss after training: 0.0746267\n",
      "loss after training: 0.07418051\n",
      "loss after training: 0.073736995\n",
      "loss after training: 0.07329614\n",
      "loss after training: 0.072857924\n",
      "loss after training: 0.07242231\n",
      "loss after training: 0.07198931\n",
      "loss after training: 0.07155892\n",
      "loss after training: 0.07113106\n",
      "loss after training: 0.070705794\n",
      "loss after training: 0.07028304\n",
      "loss after training: 0.06986283\n",
      "loss after training: 0.06944513\n",
      "loss after training: 0.06902992\n",
      "loss after training: 0.0686172\n",
      "loss after training: 0.06820694\n",
      "loss after training: 0.06779915\n",
      "loss after training: 0.067393795\n",
      "loss after training: 0.06699086\n",
      "loss after training: 0.06659034\n",
      "loss after training: 0.06619219\n",
      "loss after training: 0.06579645\n",
      "pred after training: [[-0.41294143]\n",
      " [-1.2000984 ]\n",
      " [-1.9872552 ]\n",
      " [-2.7744122 ]]\n"
     ]
    }
   ],
   "source": [
    "# traing, loss\n",
    "graph5 = tf.Graph()\n",
    "with graph5.as_default():\n",
    "    x = tf.constant([[1], [2], [3], [4]], dtype=tf.float32)\n",
    "    y_true = tf.constant([[0], [-1], [-2], [-3]], dtype=tf.float32)\n",
    "    linear_model = tf.layers.Dense(units=1)\n",
    "    y_pred = linear_model(x)\n",
    "with tf.Session(graph=graph5) as sess:\n",
    "    init = tf.global_variables_initializer()\n",
    "    sess.run(init)\n",
    "    loss = tf.losses.mean_squared_error(labels=y_true, predictions=y_pred)\n",
    "    print(\"loss before training:\",sess.run(loss))\n",
    "    optimizer = tf.train.GradientDescentOptimizer(0.01)\n",
    "    train = optimizer.minimize(loss)\n",
    "    for i in range(100):\n",
    "        _, loss_value = sess.run((train, loss))\n",
    "        print(\"loss after training:\", loss_value)\n",
    "    print(\"pred after training:\", sess.run(y_pred))"
   ]
  },
  {
   "cell_type": "code",
   "execution_count": 12,
   "metadata": {},
   "outputs": [],
   "source": [
    "# importing data https://github.com/tensorflow/docs/blob/master/site/en/r1/guide/datasets.md\n",
    "# \n",
    "from tensorflow.contrib.graph_editor.edit import *"
   ]
  }
 ],
 "metadata": {
  "kernelspec": {
   "display_name": "Python 3",
   "language": "python",
   "name": "python3"
  },
  "language_info": {
   "codemirror_mode": {
    "name": "ipython",
    "version": 3
   },
   "file_extension": ".py",
   "mimetype": "text/x-python",
   "name": "python",
   "nbconvert_exporter": "python",
   "pygments_lexer": "ipython3",
   "version": "3.6.1"
  }
 },
 "nbformat": 4,
 "nbformat_minor": 2
}
